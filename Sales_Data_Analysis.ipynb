{
 "cells": [
  {
   "cell_type": "code",
   "execution_count": 25,
   "metadata": {},
   "outputs": [],
   "source": [
    "import pandas as pd\n",
    "import pyodbc as odbc\n",
    "import io"
   ]
  },
  {
   "cell_type": "markdown",
   "metadata": {},
   "source": [
    " Define database connection details of ms sql server"
   ]
  },
  {
   "cell_type": "code",
   "execution_count": 27,
   "metadata": {},
   "outputs": [],
   "source": [
    "server = \"ichchha\\SQLEXPRESS\"\n",
    "database = \"pro2\"\n",
    "username = \"ICHCHHA/WELCOME\"\n",
    "password = \"Jigyasa1701*\"\n",
    "DRIVER_NAME = \"SQL SERVER\"\n"
   ]
  },
  {
   "cell_type": "code",
   "execution_count": 9,
   "metadata": {},
   "outputs": [],
   "source": [
    "table_name = \"used_bikes\""
   ]
  },
  {
   "cell_type": "markdown",
   "metadata": {},
   "source": [
    "1-Read the csv or excel file"
   ]
  },
  {
   "cell_type": "code",
   "execution_count": 10,
   "metadata": {},
   "outputs": [],
   "source": [
    "data =pd.read_csv(r\"E:\\dddd\\used_bikes.csv\")"
   ]
  },
  {
   "cell_type": "code",
   "execution_count": 13,
   "metadata": {},
   "outputs": [
    {
     "name": "stdout",
     "output_type": "stream",
     "text": [
      "<class 'pandas.core.frame.DataFrame'>\n",
      "RangeIndex: 149 entries, 0 to 148\n",
      "Data columns (total 8 columns):\n",
      " #   Column      Non-Null Count  Dtype  \n",
      "---  ------      --------------  -----  \n",
      " 0   bike_name   149 non-null    object \n",
      " 1   price       149 non-null    float64\n",
      " 2   city        149 non-null    object \n",
      " 3   kms_driven  149 non-null    float64\n",
      " 4   owner       149 non-null    object \n",
      " 5   age         149 non-null    float64\n",
      " 6   power       149 non-null    float64\n",
      " 7   brand       149 non-null    object \n",
      "dtypes: float64(4), object(4)\n",
      "memory usage: 45.0 KB\n"
     ]
    }
   ],
   "source": [
    "# memory usage before\n",
    "total_mem_before = data.info(memory_usage=\"deep\")\n"
   ]
  },
  {
   "cell_type": "markdown",
   "metadata": {},
   "source": [
    "memory usage before: 45.0 KB"
   ]
  },
  {
   "cell_type": "code",
   "execution_count": 14,
   "metadata": {},
   "outputs": [
    {
     "name": "stdout",
     "output_type": "stream",
     "text": [
      "<class 'pandas.core.frame.DataFrame'>\n",
      "RangeIndex: 149 entries, 0 to 148\n",
      "Data columns (total 8 columns):\n",
      " #   Column      Non-Null Count  Dtype   \n",
      "---  ------      --------------  -----   \n",
      " 0   bike_name   149 non-null    object  \n",
      " 1   price       149 non-null    float64 \n",
      " 2   city        149 non-null    category\n",
      " 3   kms_driven  149 non-null    float64 \n",
      " 4   owner       149 non-null    category\n",
      " 5   age         149 non-null    float64 \n",
      " 6   power       149 non-null    float64 \n",
      " 7   brand       149 non-null    category\n",
      "dtypes: category(3), float64(4), object(1)\n",
      "memory usage: 22.2 KB\n"
     ]
    }
   ],
   "source": [
    "# Change the datatypes of the column and check the memory usage before and after the change in the data types\n",
    "\n",
    "data[\"city\"] = data[\"city\"].astype(\"category\")\n",
    "data[\"owner\"] = data[\"owner\"].astype(\"category\")\n",
    "data[\"brand\"] = data[\"brand\"].astype(\"category\")\n",
    "total_mem_after = data.info(memory_usage=\"deep\")\n"
   ]
  },
  {
   "cell_type": "markdown",
   "metadata": {},
   "source": [
    "memory usage after: 22.2 KB"
   ]
  },
  {
   "cell_type": "markdown",
   "metadata": {},
   "source": [
    "3-Dump the data into the mysql database"
   ]
  },
  {
   "cell_type": "code",
   "execution_count": 31,
   "metadata": {},
   "outputs": [],
   "source": [
    "# Connect to SQL Server\n",
    "connection_string = f\"\"\" \n",
    "DRIVER={{{DRIVER_NAME}}};\n",
    "SERVER={\"server\"};\n",
    "DATABASE={database};\n",
    "TRUST_CONNECTION = YES;\n",
    "\"\"\"\n",
    "CONN =odbc.connect=(connection_string)\n",
    "\n",
    "\n",
    "\n",
    "\n"
   ]
  },
  {
   "cell_type": "code",
   "execution_count": 40,
   "metadata": {},
   "outputs": [],
   "source": [
    "drop_index_sql = f\"DROP INDEX IF EXISTS idx_{table_name}\"\n"
   ]
  },
  {
   "cell_type": "code",
   "execution_count": null,
   "metadata": {},
   "outputs": [],
   "source": [
    "#Execute drop index query\n",
    "DROP_INDEX = CONN.DROP_INDEX ()\n",
    "DROP_INDEX .execute(drop_index_sql)\n",
    "CONN.commit()\n"
   ]
  },
  {
   "cell_type": "code",
   "execution_count": null,
   "metadata": {},
   "outputs": [],
   "source": [
    "create_index_sql = f\"CREATE INDEX idx_{table_name} ON {table_name}(city, owner, brand)\"\n",
    "cursor.execute(create_index_sql)\n",
    "conn.commit()\n",
    "\n",
    "# Close connection\n",
    "conn.close()\n",
    "\n",
    "print(f\"Data successfully dumped and indexed in table '{table_name}'\")"
   ]
  }
 ],
 "metadata": {
  "kernelspec": {
   "display_name": "Python 3",
   "language": "python",
   "name": "python3"
  },
  "language_info": {
   "codemirror_mode": {
    "name": "ipython",
    "version": 3
   },
   "file_extension": ".py",
   "mimetype": "text/x-python",
   "name": "python",
   "nbconvert_exporter": "python",
   "pygments_lexer": "ipython3",
   "version": "3.11.4"
  }
 },
 "nbformat": 4,
 "nbformat_minor": 2
}
